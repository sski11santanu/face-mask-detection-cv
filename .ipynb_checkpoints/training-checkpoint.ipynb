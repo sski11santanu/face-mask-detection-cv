{
 "cells": [
  {
   "cell_type": "markdown",
   "id": "b4ec739b-535f-441f-b58b-914ed27e1be9",
   "metadata": {},
   "source": [
    "# Load the Training Images"
   ]
  },
  {
   "cell_type": "code",
   "execution_count": 1,
   "id": "53d1fe08-5938-4295-90db-bff1094508c0",
   "metadata": {},
   "outputs": [],
   "source": [
    "# The size of images after they'll be resized\n",
    "IMG_SIZE = 50\n",
    "# Path to the folder containing both types of images\n",
    "MASTER_PATH = \"dataset\"\n",
    "# The names of the types and the corresponding label encoding\n",
    "CATEGORIES = {\"with mask\" : 1, \"without mask\" : 0}"
   ]
  },
  {
   "cell_type": "code",
   "execution_count": 2,
   "id": "71358d2b-3762-407c-85ce-29831bf7d4db",
   "metadata": {},
   "outputs": [],
   "source": [
    "import cv2\n",
    "import os\n",
    "import numpy as np"
   ]
  },
  {
   "cell_type": "code",
   "execution_count": 3,
   "id": "4e7491d2-f1a6-4c26-9099-5a7d6e8c96a4",
   "metadata": {},
   "outputs": [],
   "source": [
    "# Function to return the pre-processed form of each image\n",
    "def preprocessImage(img):\n",
    "    # Turn into grayscale form\n",
    "    gray = cv2.cvtColor(img, cv2.COLOR_BGR2GRAY)\n",
    "    # Resize\n",
    "    resized = cv2.resize(gray, (IMG_SIZE, IMG_SIZE))\n",
    "    # Reshape to make it compatible with the CNN (2D) model\n",
    "    reshaped = resized.reshape(*resized.shape, 1)\n",
    "    return reshaped"
   ]
  },
  {
   "cell_type": "code",
   "execution_count": 4,
   "id": "5fb844af-93ca-4709-a566-c967fe65224c",
   "metadata": {},
   "outputs": [
    {
     "data": {
      "text/plain": [
       "((1376, 50, 50, 1), (1376, 2))"
      ]
     },
     "execution_count": 4,
     "metadata": {},
     "output_type": "execute_result"
    }
   ],
   "source": [
    "# Empty lists for storing processed images and their corresponding labels\n",
    "images = []\n",
    "labels = []\n",
    "\n",
    "for cat, label in CATEGORIES.items():\n",
    "    # Get the path of the images belonging to the current category\n",
    "    imgPath = os.path.join(MASTER_PATH, cat)\n",
    "    # Get the list of the names (with extensions) of images\n",
    "    imgNames = os.listdir(imgPath)\n",
    "    for imgName in imgNames:\n",
    "        # List which denotes the current label (the index for which the value is 1 denotes the label)\n",
    "        l = [0, 0]\n",
    "        l[label] = 1\n",
    "        # Location of the current image\n",
    "        imgLoc = os.path.join(imgPath, imgName)\n",
    "        img = cv2.imread(imgLoc)\n",
    "        # Push the image as well as the label to the respective lists\n",
    "        images.append(preprocessImage(img))\n",
    "        labels.append(l)\n",
    "        \n",
    "# Convert to numpy arrays\n",
    "images = np.array(images)\n",
    "labels = np.array(labels)\n",
    "# Check the shapes\n",
    "images.shape, labels.shape"
   ]
  },
  {
   "cell_type": "code",
   "execution_count": 5,
   "id": "4631c90d-fd34-44fd-a716-6a6d0ce9689a",
   "metadata": {},
   "outputs": [
    {
     "data": {
      "text/plain": [
       "(dtype('uint8'), dtype('int32'))"
      ]
     },
     "execution_count": 5,
     "metadata": {},
     "output_type": "execute_result"
    }
   ],
   "source": [
    "# Check the dtypes\n",
    "images.dtype, labels.dtype"
   ]
  },
  {
   "cell_type": "code",
   "execution_count": 6,
   "id": "8241a3e1-ffd6-4667-8af3-9ebb6123bd35",
   "metadata": {},
   "outputs": [
    {
     "data": {
      "text/plain": [
       "((690, 2), (686, 2))"
      ]
     },
     "execution_count": 6,
     "metadata": {},
     "output_type": "execute_result"
    }
   ],
   "source": [
    "# Check the count of entries belonging to each label\n",
    "msk = np.array([True if row[1] == 1 else False for row in labels])\n",
    "labels[msk].shape, labels[~msk].shape  # Should be ((690, 2), (686, 2)), i.e., 690 with mask and rest without mask"
   ]
  },
  {
   "cell_type": "markdown",
   "id": "0d22e9f8-251f-4a3c-b0da-e9db2b6716e6",
   "metadata": {},
   "source": [
    "# Building the CNN 2D Model"
   ]
  },
  {
   "cell_type": "code",
   "execution_count": 7,
   "id": "cb4132d0-13da-48cb-a1f3-2439e952a1ed",
   "metadata": {},
   "outputs": [],
   "source": [
    "from tensorflow.keras.models import Sequential\n",
    "from tensorflow.keras.layers import Conv2D, Dense, Activation, Flatten, Dropout, MaxPooling2D\n",
    "# Function to checkpoint at the epoch when the model performs the best\n",
    "from tensorflow.keras.callbacks import ModelCheckpoint"
   ]
  },
  {
   "cell_type": "code",
   "execution_count": 8,
   "id": "9cab1e5a-7b9e-4ee1-9393-b98918f616ee",
   "metadata": {},
   "outputs": [],
   "source": [
    "# Initialize the model in the sequential mode\n",
    "model = Sequential()\n",
    "# Add the input layer with 50 kernels each of shape (3, 3)\n",
    "model.add(Conv2D(50, (3, 3), input_shape = images[0].shape))\n",
    "# Input activation layer\n",
    "model.add(Activation(\"relu\"))\n",
    "# Max pooling layer for down sampling and highlighting the most present features\n",
    "model.add(MaxPooling2D(pool_size = (2, 2)))\n",
    "# First hidden layer (similar) with 50 kernels\n",
    "model.add(Conv2D(50, (3, 3)))\n",
    "model.add(Activation(\"relu\"))\n",
    "model.add(MaxPooling2D(pool_size = (2, 2)))\n",
    "# A flatten and a dropout layer for stacking and preventing overfitting\n",
    "model.add(Flatten())\n",
    "model.add(Dropout(0.5))\n",
    "# 2nd hidden layer, a 50 neurons dense one\n",
    "model.add(Dense(50, activation = \"relu\"))\n",
    "# Output layer\n",
    "model.add(Dense(2, activation = \"softmax\"))\n",
    "\n",
    "# Compile\n",
    "model.compile(optimizer = \"adam\", loss = \"binary_crossentropy\", metrics = [\"accuracy\"])"
   ]
  },
  {
   "cell_type": "code",
   "execution_count": 9,
   "id": "9e8c11b9-bcb6-498a-a8a2-0a69d49cea11",
   "metadata": {},
   "outputs": [
    {
     "name": "stdout",
     "output_type": "stream",
     "text": [
      "Model: \"sequential\"\n",
      "_________________________________________________________________\n",
      "Layer (type)                 Output Shape              Param #   \n",
      "=================================================================\n",
      "conv2d (Conv2D)              (None, 48, 48, 50)        500       \n",
      "_________________________________________________________________\n",
      "activation (Activation)      (None, 48, 48, 50)        0         \n",
      "_________________________________________________________________\n",
      "max_pooling2d (MaxPooling2D) (None, 24, 24, 50)        0         \n",
      "_________________________________________________________________\n",
      "conv2d_1 (Conv2D)            (None, 22, 22, 50)        22550     \n",
      "_________________________________________________________________\n",
      "activation_1 (Activation)    (None, 22, 22, 50)        0         \n",
      "_________________________________________________________________\n",
      "max_pooling2d_1 (MaxPooling2 (None, 11, 11, 50)        0         \n",
      "_________________________________________________________________\n",
      "flatten (Flatten)            (None, 6050)              0         \n",
      "_________________________________________________________________\n",
      "dropout (Dropout)            (None, 6050)              0         \n",
      "_________________________________________________________________\n",
      "dense (Dense)                (None, 50)                302550    \n",
      "_________________________________________________________________\n",
      "dense_1 (Dense)              (None, 2)                 102       \n",
      "=================================================================\n",
      "Total params: 325,702\n",
      "Trainable params: 325,702\n",
      "Non-trainable params: 0\n",
      "_________________________________________________________________\n"
     ]
    }
   ],
   "source": [
    "# Summarise the model\n",
    "model.summary()"
   ]
  },
  {
   "cell_type": "markdown",
   "id": "974b847f-4b54-4c1d-9b9d-525c9c48030c",
   "metadata": {},
   "source": [
    "# Splitting Data and Training the Model"
   ]
  },
  {
   "cell_type": "code",
   "execution_count": 10,
   "id": "65c1f50b-b515-4d25-bb38-305ea2fcc96a",
   "metadata": {},
   "outputs": [],
   "source": [
    "from sklearn.model_selection import train_test_split"
   ]
  },
  {
   "cell_type": "code",
   "execution_count": 11,
   "id": "5679e467-f76d-4b17-aa6f-eaa283bc154d",
   "metadata": {},
   "outputs": [],
   "source": [
    "trainX, validX, trainy, validy = train_test_split(images, labels, test_size = 0.2, random_state = 0)"
   ]
  },
  {
   "cell_type": "code",
   "execution_count": 12,
   "id": "b6562c13-55a6-4de8-872e-3432c53c7bf0",
   "metadata": {},
   "outputs": [
    {
     "data": {
      "text/plain": [
       "((1100, 50, 50, 1), (276, 50, 50, 1))"
      ]
     },
     "execution_count": 12,
     "metadata": {},
     "output_type": "execute_result"
    }
   ],
   "source": [
    "trainX.shape, validX.shape"
   ]
  },
  {
   "cell_type": "code",
   "execution_count": 13,
   "id": "a784a344-2cf0-4f79-a381-e5b909ee79ab",
   "metadata": {},
   "outputs": [
    {
     "name": "stdout",
     "output_type": "stream",
     "text": [
      "Epoch 1/10\n",
      "35/35 [==============================] - 2s 39ms/step - loss: 3.0487 - accuracy: 0.5745 - val_loss: 0.6116 - val_accuracy: 0.7029\n",
      "INFO:tensorflow:Assets written to: face-mask-detection-model\\assets\n",
      "Epoch 2/10\n",
      "35/35 [==============================] - 1s 35ms/step - loss: 0.5478 - accuracy: 0.7264 - val_loss: 0.4435 - val_accuracy: 0.8116\n",
      "INFO:tensorflow:Assets written to: face-mask-detection-model\\assets\n",
      "Epoch 3/10\n",
      "35/35 [==============================] - 1s 36ms/step - loss: 0.4311 - accuracy: 0.8100 - val_loss: 0.4358 - val_accuracy: 0.8080\n",
      "INFO:tensorflow:Assets written to: face-mask-detection-model\\assets\n",
      "Epoch 4/10\n",
      "35/35 [==============================] - 1s 37ms/step - loss: 0.3436 - accuracy: 0.8555 - val_loss: 0.3082 - val_accuracy: 0.8623\n",
      "INFO:tensorflow:Assets written to: face-mask-detection-model\\assets\n",
      "Epoch 5/10\n",
      "35/35 [==============================] - 1s 36ms/step - loss: 0.3056 - accuracy: 0.8855 - val_loss: 0.3696 - val_accuracy: 0.8333\n",
      "Epoch 6/10\n",
      "35/35 [==============================] - 1s 39ms/step - loss: 0.2933 - accuracy: 0.8864 - val_loss: 0.2869 - val_accuracy: 0.8732\n",
      "INFO:tensorflow:Assets written to: face-mask-detection-model\\assets\n",
      "Epoch 7/10\n",
      "35/35 [==============================] - 1s 36ms/step - loss: 0.2233 - accuracy: 0.9182 - val_loss: 0.3520 - val_accuracy: 0.8732\n",
      "Epoch 8/10\n",
      "35/35 [==============================] - 1s 36ms/step - loss: 0.1933 - accuracy: 0.9218 - val_loss: 0.2336 - val_accuracy: 0.9130\n",
      "INFO:tensorflow:Assets written to: face-mask-detection-model\\assets\n",
      "Epoch 9/10\n",
      "35/35 [==============================] - 1s 38ms/step - loss: 0.1768 - accuracy: 0.9373 - val_loss: 0.2247 - val_accuracy: 0.9167\n",
      "INFO:tensorflow:Assets written to: face-mask-detection-model\\assets\n",
      "Epoch 10/10\n",
      "35/35 [==============================] - 1s 37ms/step - loss: 0.2074 - accuracy: 0.9218 - val_loss: 0.2452 - val_accuracy: 0.9058\n"
     ]
    }
   ],
   "source": [
    "# The checkpointing callback function\n",
    "checkpoint = ModelCheckpoint(\"face-mask-detection-model\", monitor = \"val_loss\", verbose = 0, save_best_only = True)\n",
    "# Train the model and checkpoint the best one\n",
    "history = model.fit(trainX, trainy, epochs = 10, validation_data = (validX, validy), callbacks = [checkpoint], verbose = 1)"
   ]
  },
  {
   "cell_type": "markdown",
   "id": "a5ea5667-d94b-4aae-9bde-dc3e3816bcce",
   "metadata": {},
   "source": [
    "# Visualization"
   ]
  },
  {
   "cell_type": "code",
   "execution_count": 14,
   "id": "0c34e337-40ed-4320-ad1d-2ef0929c84cc",
   "metadata": {},
   "outputs": [],
   "source": [
    "import matplotlib.pyplot as plt"
   ]
  },
  {
   "cell_type": "code",
   "execution_count": 15,
   "id": "dc799094-5a3b-4417-9032-dce353bff7d1",
   "metadata": {},
   "outputs": [
    {
     "data": {
      "image/png": "[encoded data removed]",
      "text/plain": [
       "<Figure size 432x288 with 1 Axes>"
      ]
     },
     "metadata": {
      "needs_background": "light"
     },
     "output_type": "display_data"
    }
   ],
   "source": [
    "# Plot the loss curves\n",
    "x = range(1, 11)\n",
    "plt.plot(x, history.history[\"loss\"])\n",
    "plt.plot(x, history.history[\"val_loss\"])\n",
    "plt.xlabel(\"Epoch\")\n",
    "plt.ylabel(\"Loss\")\n",
    "plt.title(\"Loss Curves\")\n",
    "plt.show()"
   ]
  },
  {
   "cell_type": "markdown",
   "id": "36277882-d28f-406f-864b-10905bdb344b",
   "metadata": {},
   "source": [
    "# Evaluation"
   ]
  },
  {
   "cell_type": "code",
   "execution_count": 16,
   "id": "7f36a652-7d31-4ecf-976f-14f72bbc434c",
   "metadata": {},
   "outputs": [],
   "source": [
    "from tensorflow.keras.models import load_model"
   ]
  },
  {
   "cell_type": "code",
   "execution_count": 17,
   "id": "e3b0d07f-5731-4571-a2bf-7d18b39bbcfa",
   "metadata": {},
   "outputs": [],
   "source": [
    "# Get the best model\n",
    "bestModel = load_model(\"face-mask-detection-model\")"
   ]
  },
  {
   "cell_type": "code",
   "execution_count": 18,
   "id": "0095d737-532c-41c2-899f-4d6d876632ba",
   "metadata": {},
   "outputs": [
    {
     "name": "stdout",
     "output_type": "stream",
     "text": [
      "[Validation Loss, Validation Accuracy]:\n",
      "9/9 [==============================] - 0s 9ms/step - loss: 0.2247 - accuracy: 0.9167\n",
      "[0.2246711701154709, 0.9166666865348816]\n"
     ]
    }
   ],
   "source": [
    "# Evaluate the best model\n",
    "print(\"[Validation Loss, Validation Accuracy]:\")\n",
    "print(bestModel.evaluate(validX, validy))"
   ]
  },
  {
   "cell_type": "code",
   "execution_count": null,
   "id": "6d3644ac-1ed3-45c2-baa6-84d0d0dc3d77",
   "metadata": {},
   "outputs": [],
   "source": []
  }
 ],
 "metadata": {
  "kernelspec": {
   "display_name": "Python 3",
   "language": "python",
   "name": "python3"
  },
  "language_info": {
   "codemirror_mode": {
    "name": "ipython",
    "version": 3
   },
   "file_extension": ".py",
   "mimetype": "text/x-python",
   "name": "python",
   "nbconvert_exporter": "python",
   "pygments_lexer": "ipython3",
   "version": "3.7.0"
  }
 },
 "nbformat": 4,
 "nbformat_minor": 5
}
